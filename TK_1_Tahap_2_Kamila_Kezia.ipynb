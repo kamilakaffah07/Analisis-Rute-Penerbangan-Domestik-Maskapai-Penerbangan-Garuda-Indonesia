{
 "cells": [
  {
   "cell_type": "code",
   "execution_count": 1,
   "metadata": {
    "colab": {
     "base_uri": "https://localhost:8080/"
    },
    "id": "QJfz5r2l1UCC",
    "outputId": "dcd1cff1-4e09-48c3-ff28-40dddec85cf6"
   },
   "outputs": [
    {
     "name": "stdout",
     "output_type": "stream",
     "text": [
      "Mounted at /content/drive\n"
     ]
    }
   ],
   "source": [
    "from google.colab import drive\n",
    "drive.mount('/content/drive')"
   ]
  },
  {
   "cell_type": "code",
   "execution_count": 2,
   "metadata": {
    "colab": {
     "base_uri": "https://localhost:8080/"
    },
    "id": "h0LCg4cp1uTw",
    "outputId": "1a9d6265-46bb-44af-a1ab-cb4329c40929"
   },
   "outputs": [
    {
     "name": "stdout",
     "output_type": "stream",
     "text": [
      "/content/drive/MyDrive/Colab Notebooks\n"
     ]
    }
   ],
   "source": [
    " %cd 'drive/MyDrive/Colab Notebooks'"
   ]
  },
  {
   "cell_type": "markdown",
   "metadata": {
    "id": "YBlctBvW5l7N"
   },
   "source": [
    "### Membaca data graph dari file csv"
   ]
  },
  {
   "cell_type": "code",
   "execution_count": 3,
   "metadata": {
    "colab": {
     "base_uri": "https://localhost:8080/",
     "height": 544
    },
    "id": "TiI-JViq1v7z",
    "outputId": "3cfd2ab8-d1b8-45ae-98fd-21736bed2226"
   },
   "outputs": [
    {
     "data": {
      "text/html": [
       "<div>\n",
       "<style scoped>\n",
       "    .dataframe tbody tr th:only-of-type {\n",
       "        vertical-align: middle;\n",
       "    }\n",
       "\n",
       "    .dataframe tbody tr th {\n",
       "        vertical-align: top;\n",
       "    }\n",
       "\n",
       "    .dataframe thead th {\n",
       "        text-align: right;\n",
       "    }\n",
       "</style>\n",
       "<table border=\"1\" class=\"dataframe\">\n",
       "  <thead>\n",
       "    <tr style=\"text-align: right;\">\n",
       "      <th></th>\n",
       "      <th>Kode Bandara Asal</th>\n",
       "      <th>Kota Asal</th>\n",
       "      <th>Bandara Asal</th>\n",
       "      <th>Kode Bandara Tujuan</th>\n",
       "      <th>Kota Tujuan</th>\n",
       "      <th>Bandara Tujuan</th>\n",
       "      <th>Count</th>\n",
       "      <th>date</th>\n",
       "    </tr>\n",
       "  </thead>\n",
       "  <tbody>\n",
       "    <tr>\n",
       "      <th>0</th>\n",
       "      <td>BDJ</td>\n",
       "      <td>Banjarmasin (BDJ)</td>\n",
       "      <td>Sjamsudin Noor Airport (BDJ)</td>\n",
       "      <td>CGK</td>\n",
       "      <td>Jakarta (JKT)</td>\n",
       "      <td>Soekarno Hatta International Airport (CGK)</td>\n",
       "      <td>1</td>\n",
       "      <td>4/20/2021</td>\n",
       "    </tr>\n",
       "    <tr>\n",
       "      <th>1</th>\n",
       "      <td>BIK</td>\n",
       "      <td>Biak (BIK)</td>\n",
       "      <td>Frans Kaisiepo Airport (BIK)</td>\n",
       "      <td>DJJ</td>\n",
       "      <td>Jayapura (DJJ)</td>\n",
       "      <td>Sentani Airport (DJJ)</td>\n",
       "      <td>1</td>\n",
       "      <td>4/20/2021</td>\n",
       "    </tr>\n",
       "    <tr>\n",
       "      <th>2</th>\n",
       "      <td>BKS</td>\n",
       "      <td>Bengkulu (BKS)</td>\n",
       "      <td>Fatmawati Soekarno Airport (BKS)</td>\n",
       "      <td>CGK</td>\n",
       "      <td>Jakarta (JKT)</td>\n",
       "      <td>Soekarno Hatta International Airport (CGK)</td>\n",
       "      <td>1</td>\n",
       "      <td>4/20/2021</td>\n",
       "    </tr>\n",
       "    <tr>\n",
       "      <th>3</th>\n",
       "      <td>BPN</td>\n",
       "      <td>Balikpapan (BPN)</td>\n",
       "      <td>Sepinggan Airport (BPN)</td>\n",
       "      <td>TRK</td>\n",
       "      <td>Tarakan (TRK)</td>\n",
       "      <td>Juwata International Airport (TRK)</td>\n",
       "      <td>1</td>\n",
       "      <td>4/20/2021</td>\n",
       "    </tr>\n",
       "    <tr>\n",
       "      <th>4</th>\n",
       "      <td>BTH</td>\n",
       "      <td>Batam (BTH)</td>\n",
       "      <td>Hang Nadim Airport (BTH)</td>\n",
       "      <td>CGK</td>\n",
       "      <td>Jakarta (JKT)</td>\n",
       "      <td>Soekarno Hatta International Airport (CGK)</td>\n",
       "      <td>1</td>\n",
       "      <td>4/20/2021</td>\n",
       "    </tr>\n",
       "  </tbody>\n",
       "</table>\n",
       "</div>"
      ],
      "text/plain": [
       "  Kode Bandara Asal          Kota Asal  ... Count       date\n",
       "0               BDJ  Banjarmasin (BDJ)  ...     1  4/20/2021\n",
       "1               BIK         Biak (BIK)  ...     1  4/20/2021\n",
       "2               BKS     Bengkulu (BKS)  ...     1  4/20/2021\n",
       "3               BPN   Balikpapan (BPN)  ...     1  4/20/2021\n",
       "4               BTH        Batam (BTH)  ...     1  4/20/2021\n",
       "\n",
       "[5 rows x 8 columns]"
      ]
     },
     "execution_count": 3,
     "metadata": {
      "tags": []
     },
     "output_type": "execute_result"
    }
   ],
   "source": [
    "import pandas as pd\n",
    "df = pd.read_csv('data_GA.csv')\n",
    "\n",
    "df.head()"
   ]
  },
  {
   "cell_type": "markdown",
   "metadata": {
    "id": "AoxY-r9OvVAJ"
   },
   "source": [
    "### Mengekstraksi kode bandara untuk membuat gambar *graph*"
   ]
  },
  {
   "cell_type": "code",
   "execution_count": 4,
   "metadata": {
    "colab": {
     "base_uri": "https://localhost:8080/",
     "height": 198
    },
    "id": "p2yCyTs1vbrF",
    "outputId": "72504c98-1246-415d-8488-2d473c780a7f"
   },
   "outputs": [
    {
     "data": {
      "text/html": [
       "<div>\n",
       "<style scoped>\n",
       "    .dataframe tbody tr th:only-of-type {\n",
       "        vertical-align: middle;\n",
       "    }\n",
       "\n",
       "    .dataframe tbody tr th {\n",
       "        vertical-align: top;\n",
       "    }\n",
       "\n",
       "    .dataframe thead th {\n",
       "        text-align: right;\n",
       "    }\n",
       "</style>\n",
       "<table border=\"1\" class=\"dataframe\">\n",
       "  <thead>\n",
       "    <tr style=\"text-align: right;\">\n",
       "      <th></th>\n",
       "      <th>Kode Bandara 1</th>\n",
       "      <th>Kode Bandara 2</th>\n",
       "    </tr>\n",
       "  </thead>\n",
       "  <tbody>\n",
       "    <tr>\n",
       "      <th>0</th>\n",
       "      <td>BDJ</td>\n",
       "      <td>CGK</td>\n",
       "    </tr>\n",
       "    <tr>\n",
       "      <th>1</th>\n",
       "      <td>BIK</td>\n",
       "      <td>DJJ</td>\n",
       "    </tr>\n",
       "    <tr>\n",
       "      <th>2</th>\n",
       "      <td>BKS</td>\n",
       "      <td>CGK</td>\n",
       "    </tr>\n",
       "    <tr>\n",
       "      <th>3</th>\n",
       "      <td>BPN</td>\n",
       "      <td>TRK</td>\n",
       "    </tr>\n",
       "    <tr>\n",
       "      <th>4</th>\n",
       "      <td>BTH</td>\n",
       "      <td>CGK</td>\n",
       "    </tr>\n",
       "  </tbody>\n",
       "</table>\n",
       "</div>"
      ],
      "text/plain": [
       "  Kode Bandara 1 Kode Bandara 2\n",
       "0            BDJ            CGK\n",
       "1            BIK            DJJ\n",
       "2            BKS            CGK\n",
       "3            BPN            TRK\n",
       "4            BTH            CGK"
      ]
     },
     "execution_count": 4,
     "metadata": {
      "tags": []
     },
     "output_type": "execute_result"
    }
   ],
   "source": [
    "df = df[['Kode Bandara Asal', 'Kode Bandara Tujuan']].values\n",
    "\n",
    "for route in df:\n",
    "  route[:2] = sorted(route[:2])\n",
    "\n",
    "df = pd.DataFrame(df, columns = ['Kode Bandara 1', 'Kode Bandara 2'])\n",
    "df = df.drop_duplicates()\n",
    "\n",
    "df.head()"
   ]
  },
  {
   "cell_type": "markdown",
   "metadata": {
    "id": "yZExtEuG57HU"
   },
   "source": [
    "### Membuat gambar *graph*"
   ]
  },
  {
   "cell_type": "code",
   "execution_count": 5,
   "metadata": {
    "id": "rf7JPV4213kW"
   },
   "outputs": [],
   "source": [
    "import networkx as nx\n",
    "\n",
    "G = nx.Graph()"
   ]
  },
  {
   "cell_type": "code",
   "execution_count": 6,
   "metadata": {
    "id": "2J5x1aJW3OgX"
   },
   "outputs": [],
   "source": [
    "# add nodes to graph\n",
    "\n",
    "G.add_nodes_from(df['Kode Bandara 1'])\n",
    "G.add_nodes_from(df['Kode Bandara 2'])"
   ]
  },
  {
   "cell_type": "code",
   "execution_count": 7,
   "metadata": {
    "id": "oh9wRY-M3UhU"
   },
   "outputs": [],
   "source": [
    "# add edges to graph\n",
    "\n",
    "for index, row in df.iterrows():\n",
    "    G.add_edge(row['Kode Bandara 1'], row['Kode Bandara 2'])"
   ]
  },
  {
   "cell_type": "code",
   "execution_count": 8,
   "metadata": {
    "id": "Btfr8_0UdF6u"
   },
   "outputs": [],
   "source": [
    "# add attribute timezone to nodes\n",
    "\n",
    "timezone = {\n",
    "  'KDI': 'WITA',  'TTE': 'WIT',   'KNO': 'WIB',   'BDJ': 'WITA',  'BIK': 'WIT',\n",
    "  'TNJ': 'WIB',   'BPN': 'WITA',  'MJU': 'WITA',  'BTJ': 'WIB',   'PNK': 'WIB',\n",
    "  'DJB': 'WIB',   'PKU': 'WIB',   'SOQ': 'WIT',   'KOE': 'WITA',  'TRK': 'WITA',\n",
    "  'PLW': 'WITA',  'BTH': 'WIB',   'PKY': 'WIB',   'DJJ': 'WIT',   'LOP': 'WITA',\n",
    "  'PGK': 'WIB',   'UPG': 'WIB',   'SUB': 'WIB',   'SRG': 'WIB',   'DPS': 'WITA',\n",
    "  'GNS': 'WIB',   'FLZ': 'WIB',   'BKS': 'WIB',   'TIM': 'WIT',   'NBX': 'WIT',\n",
    "  'PLM': 'WIB',   'MKW': 'WIT',   'PDG': 'WIB',   'TKG': 'WIB',   'MDC': 'WITA',\n",
    "  'CGK': 'WIB',   'GTO': 'WITA',  'YIA': 'WIB'\n",
    "}\n",
    "\n",
    "nx.set_node_attributes(G, timezone, 'timezone')"
   ]
  },
  {
   "cell_type": "code",
   "execution_count": 9,
   "metadata": {
    "colab": {
     "base_uri": "https://localhost:8080/",
     "height": 645
    },
    "id": "GirrgH_K4Oku",
    "outputId": "ff47996f-2e64-4cef-dba1-d9cb40b98b5e"
   },
   "outputs": [
    {
     "data": {
      "image/png": "[encoded data removed]",
      "text/plain": [
       "<Figure size 864x864 with 1 Axes>"
      ]
     },
     "metadata": {
      "tags": []
     },
     "output_type": "display_data"
    }
   ],
   "source": [
    "import matplotlib.pyplot as plt\n",
    "\n",
    "plt.figure(figsize = (12, 12))\n",
    "\n",
    "nx.draw(G, with_labels = True, node_color = 'yellow', edge_color = 'grey')"
   ]
  },
  {
   "cell_type": "markdown",
   "metadata": {
    "id": "zypQzrBn-YOh"
   },
   "source": [
    "### 1. *Descriptive Analytics*:\n",
    "\n",
    "### Bandara apa yang paling sibuk pada penerbangan GA?"
   ]
  },
  {
   "cell_type": "markdown",
   "metadata": {
    "id": "elgHCEpc-cXT"
   },
   "source": [
    "Yang paling sibuk adalah bandara **Soekarno Hatta International Airport (CGK)**\n",
    "\n",
    "Dihitung menggunakan *betweenness centrality* sebagai berikut:"
   ]
  },
  {
   "cell_type": "code",
   "execution_count": 10,
   "metadata": {
    "colab": {
     "base_uri": "https://localhost:8080/"
    },
    "id": "ZDZDveV94ghl",
    "outputId": "de0d7ff2-a993-4de0-e6f9-5f62219842d4"
   },
   "outputs": [
    {
     "data": {
      "text/plain": [
       "[('CGK', 0.9379379379379379),\n",
       " ('UPG', 0.13613613613613612),\n",
       " ('DJJ', 0.11911911911911913),\n",
       " ('SUB', 0.056806806806806796),\n",
       " ('BPN', 0.05405405405405406),\n",
       " ('SOQ', 0.05405405405405406),\n",
       " ('TIM', 0.01126126126126126),\n",
       " ('BDJ', 0.0),\n",
       " ('BIK', 0.0),\n",
       " ('BKS', 0.0)]"
      ]
     },
     "execution_count": 10,
     "metadata": {
      "tags": []
     },
     "output_type": "execute_result"
    }
   ],
   "source": [
    "import operator\n",
    "\n",
    "# find betweenness centralities\n",
    "betweenness_centrality = nx.betweenness_centrality(G)\n",
    "\n",
    "# get the items and make a list\n",
    "betweenness_centrality = list(betweenness_centrality.items())\n",
    "\n",
    "# sort by centrality values, descending\n",
    "betweenness_centrality.sort(key=lambda data : data[1], reverse=True)\n",
    "\n",
    "# show 10 biggest betweenness centrality (the rest has value of 0)\n",
    "betweenness_centrality[:10]"
   ]
  },
  {
   "cell_type": "markdown",
   "metadata": {
    "id": "QX5ziHHMFMBO"
   },
   "source": [
    "### 2. *Inferential Analytics*:\n",
    "\n",
    "### Apakah jalur penerbangan GA cenderung hanya beroperasi di wilayah yang sama? Konteks wilayah disini adalah 3 wilayah waktu Indonesia, yaitu WIB, WITA, dan WIT."
   ]
  },
  {
   "cell_type": "markdown",
   "metadata": {
    "id": "I-RWH9R3y92u"
   },
   "source": [
    "Nilai *assortativity* berdasarkan atribut wilayah waktu (*timezone*) adalah **0.22123893805309733**"
   ]
  },
  {
   "cell_type": "code",
   "execution_count": 11,
   "metadata": {
    "colab": {
     "base_uri": "https://localhost:8080/"
    },
    "id": "Uhc3oSVi-Xif",
    "outputId": "8a0aa2ef-5b06-40c9-f924-1043081562dd"
   },
   "outputs": [
    {
     "data": {
      "text/plain": [
       "0.2212389380530973"
      ]
     },
     "execution_count": 11,
     "metadata": {
      "tags": []
     },
     "output_type": "execute_result"
    }
   ],
   "source": [
    "nx.attribute_assortativity_coefficient(G, 'timezone')"
   ]
  },
  {
   "cell_type": "markdown",
   "metadata": {
    "id": "4eEMOp0d_ff1"
   },
   "source": [
    "Menghitung *homophily*\n",
    "\n",
    "Nilai *expected* 0.6052631578947368 sedangkan nilai *actual* 0.38636363636363635\n",
    "\n",
    "Artinya dapat dikatakan terjadi ***homophily***"
   ]
  },
  {
   "cell_type": "code",
   "execution_count": 12,
   "metadata": {
    "colab": {
     "base_uri": "https://localhost:8080/"
    },
    "id": "eAn754D9wz_1",
    "outputId": "f628a5b1-d717-424d-854b-35caf1696372"
   },
   "outputs": [
    {
     "data": {
      "text/plain": [
       "Counter({'WIB': 20, 'WIT': 7, 'WITA': 11})"
      ]
     },
     "execution_count": 12,
     "metadata": {
      "tags": []
     },
     "output_type": "execute_result"
    }
   ],
   "source": [
    "from collections import Counter\n",
    "Counter(timezone.values())"
   ]
  },
  {
   "cell_type": "code",
   "execution_count": 13,
   "metadata": {
    "colab": {
     "base_uri": "https://localhost:8080/"
    },
    "id": "M2cnfsQlxgh8",
    "outputId": "4e6bcce1-43cf-4da1-be53-d31414d15a59"
   },
   "outputs": [
    {
     "data": {
      "text/plain": [
       "0.6052631578947368"
      ]
     },
     "execution_count": 13,
     "metadata": {
      "tags": []
     },
     "output_type": "execute_result"
    }
   ],
   "source": [
    "wib  = 20/38\n",
    "wit  = 7/38\n",
    "wita = 11/38\n",
    "\n",
    "# the expected fraction of cross-timezone edges\n",
    "2*wib*wit + 2*wib*wita + 2*wit*wita"
   ]
  },
  {
   "cell_type": "code",
   "execution_count": 14,
   "metadata": {
    "colab": {
     "base_uri": "https://localhost:8080/"
    },
    "id": "voi5xyDpFFnh",
    "outputId": "2d3b38cb-55b1-4cbf-97da-88b98fa1e2d4"
   },
   "outputs": [
    {
     "data": {
      "text/plain": [
       "{'WIB': {'WIB': 42, 'WIT': 4, 'WITA': 13},\n",
       " 'WIT': {'WIB': 4, 'WIT': 10},\n",
       " 'WITA': {'WIB': 13, 'WITA': 2}}"
      ]
     },
     "execution_count": 14,
     "metadata": {
      "tags": []
     },
     "output_type": "execute_result"
    }
   ],
   "source": [
    "nx.attribute_mixing_dict(G, 'timezone')"
   ]
  },
  {
   "cell_type": "code",
   "execution_count": 15,
   "metadata": {
    "colab": {
     "base_uri": "https://localhost:8080/"
    },
    "id": "G0YjAKaU-3rw",
    "outputId": "b61f6a03-c9e1-472e-ba9c-8debc59787ce"
   },
   "outputs": [
    {
     "data": {
      "text/plain": [
       "0.38636363636363635"
      ]
     },
     "execution_count": 15,
     "metadata": {
      "tags": []
     },
     "output_type": "execute_result"
    }
   ],
   "source": [
    "# the actual cross-timezone edges. 4 is WIB-WIT and 13 is WIB-WITA\n",
    "(4 + 13) / len(df)"
   ]
  },
  {
   "cell_type": "code",
   "execution_count": 16,
   "metadata": {
    "colab": {
     "base_uri": "https://localhost:8080/"
    },
    "id": "7bmI1pwGcsTE",
    "outputId": "83512ffc-6fa2-46e9-f7f0-ed92b96ec50b"
   },
   "outputs": [
    {
     "data": {
      "text/plain": [
       "44"
      ]
     },
     "execution_count": 16,
     "metadata": {
      "tags": []
     },
     "output_type": "execute_result"
    }
   ],
   "source": [
    "len(df)"
   ]
  },
  {
   "cell_type": "markdown",
   "metadata": {
    "id": "d8-RjpGKFqMQ"
   },
   "source": [
    "### 3. *Predictive Analytics*:\n",
    "\n",
    "### Jalur penerbangan baru apa yang paling mungkin terjadi di bandara Ngurah Rai International Airport (DPS)?"
   ]
  },
  {
   "cell_type": "markdown",
   "metadata": {
    "id": "2sotC0cMzPFj"
   },
   "source": [
    "Yang terprediksi paling mungkin untuk menjadi jalur baru dengan **DPS** adalah **UPG** dengan skor 12 berdasarkan *preferential attachment*"
   ]
  },
  {
   "cell_type": "code",
   "execution_count": 17,
   "metadata": {
    "colab": {
     "base_uri": "https://localhost:8080/"
    },
    "id": "mpWNEQSwYS_y",
    "outputId": "19f0a101-2ff3-4054-e8ea-d8a76d25d338"
   },
   "outputs": [
    {
     "name": "stdout",
     "output_type": "stream",
     "text": [
      "('DPS', 'UPG', 12)\n",
      "('DPS', 'SUB', 8)\n",
      "('DPS', 'DJJ', 8)\n",
      "('DPS', 'TIM', 6)\n",
      "('DPS', 'SOQ', 4)\n"
     ]
    }
   ],
   "source": [
    "# find link predictions\n",
    "link_prediction = list(nx.preferential_attachment(G))\n",
    "\n",
    "# sort by preferential attachment value, descending\n",
    "link_prediction.sort(key=lambda data : data[2], reverse=True)\n",
    "\n",
    "cnt = 0\n",
    "\n",
    "# show 5 best link predictions containing airport DPS\n",
    "for route in link_prediction:\n",
    "  if route[0] == 'DPS' or route[1] == 'DPS':\n",
    "    print(route)\n",
    "\n",
    "    cnt += 1\n",
    "    if cnt == 5:\n",
    "      break"
   ]
  }
 ],
 "metadata": {
  "colab": {
   "collapsed_sections": [],
   "name": "TK 1 ANAM Tahap 2.ipynb",
   "provenance": []
  },
  "kernelspec": {
   "display_name": "Python 3",
   "language": "python",
   "name": "python3"
  },
  "language_info": {
   "codemirror_mode": {
    "name": "ipython",
    "version": 3
   },
   "file_extension": ".py",
   "mimetype": "text/x-python",
   "name": "python",
   "nbconvert_exporter": "python",
   "pygments_lexer": "ipython3",
   "version": "3.8.5"
  }
 },
 "nbformat": 4,
 "nbformat_minor": 1
}
